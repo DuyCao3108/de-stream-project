{
 "cells": [
  {
   "cell_type": "code",
   "execution_count": 3,
   "metadata": {},
   "outputs": [],
   "source": [
    "import pymongo\n",
    "\n",
    "\n",
    "# get col\n",
    "myclient = pymongo.MongoClient(\"mongodb://localhost:27017/\",username='duycao',password='123')\n",
    "mydb = myclient[\"streaming_project\"]\n",
    "order_col = mydb[\"orders\"] \n",
    "item_counts_col = mydb[\"item_counts\"] \n",
    "surging_col = mydb[\"surging\"] \n",
    "kpis_col =  mydb[\"kpis\"] "
   ]
  },
  {
   "cell_type": "code",
   "execution_count": 8,
   "metadata": {},
   "outputs": [
    {
     "data": {
      "text/plain": [
       "True"
      ]
     },
     "execution_count": 8,
     "metadata": {},
     "output_type": "execute_result"
    }
   ],
   "source": [
    "kpis_col.find_one({}) is None"
   ]
  }
 ],
 "metadata": {
  "kernelspec": {
   "display_name": "myenv",
   "language": "python",
   "name": "python3"
  },
  "language_info": {
   "codemirror_mode": {
    "name": "ipython",
    "version": 3
   },
   "file_extension": ".py",
   "mimetype": "text/x-python",
   "name": "python",
   "nbconvert_exporter": "python",
   "pygments_lexer": "ipython3",
   "version": "3.10.12"
  }
 },
 "nbformat": 4,
 "nbformat_minor": 2
}
